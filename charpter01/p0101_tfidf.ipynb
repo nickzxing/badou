{
 "cells": [
  {
   "cell_type": "markdown",
   "source": [
    "## TF-IDF<br />\n",
    "TF（词频）：该词在文章中出现的次数/该文章的总词数<br />\n",
    "IDF（反文档频率）：Log(总文章数/包含该词的文章数+1)\n",
    "> * step1：原始数据预处理\n",
    "> * step2：产生IDF词表\n",
    "> * step3：计算TF-IDF"
   ],
   "metadata": {
    "collapsed": false,
    "pycharm": {
     "name": "#%% md\n"
    }
   }
  },
  {
   "cell_type": "code",
   "execution_count": 31,
   "metadata": {
    "collapsed": true,
    "pycharm": {
     "name": "#%%\n"
    }
   },
   "outputs": [],
   "source": [
    "import math\n",
    "import os\n",
    "\n",
    "file_path_dir = \"./d0101/data\"\n",
    "raw_path = \"./d0101/raw.data\"\n",
    "idf_path = './d0101/idf.data'\n",
    "file_index = 1\n",
    "word_idf_dict = {}\n",
    "try:\n",
    "    file_writer = open(raw_path, \"w\", encoding=\"utf-8\")\n",
    "    for file in os.scandir(file_path_dir):\n",
    "        lines = []\n",
    "        with open(file, \"r\", encoding=\"utf-8\") as read:\n",
    "            for line in read:\n",
    "                lines.append(line.strip())\n",
    "        content = '\\t'.join([str(file_index), ' '.join(lines)]) + '\\n'\n",
    "        file_writer.writelines(content)\n",
    "        file_index += 1\n",
    "finally:\n",
    "    if file_writer:\n",
    "        file_writer.close()"
   ]
  },
  {
   "cell_type": "code",
   "execution_count": 32,
   "outputs": [],
   "source": [
    "try:\n",
    "    file_words = []\n",
    "    file_writer = open(idf_path, \"w\", encoding=\"utf-8\")\n",
    "    with open(raw_path, \"r\", encoding=\"utf-8\") as read:\n",
    "        for line in read:\n",
    "            line = line.strip().split(\"\\t\")\n",
    "            if len(line) != 2:\n",
    "                continue\n",
    "            words = line[1].strip().split(\" \")\n",
    "            words = set(words)\n",
    "            for word in words:\n",
    "                file_words.append((word, 1))\n",
    "    file_words = sorted(file_words, key=lambda x: x[0])\n",
    "    word_count = 0\n",
    "    current_word = None\n",
    "    for word in file_words:\n",
    "        w, n = word\n",
    "        if not current_word:\n",
    "            current_word = w\n",
    "        if not current_word.__eq__(w):\n",
    "            idf = math.log(file_index / (word_count + 1))\n",
    "            word_content = \"\\t\".join([current_word, str(idf)]) + \"\\n\"\n",
    "            file_writer.write(word_content)\n",
    "            current_word = w\n",
    "            word_count = 0\n",
    "            continue\n",
    "        word_count += n\n",
    "    idf = math.log(file_index / (word_count + 1.0))\n",
    "    word_content = \"\\t\".join([current_word, str(idf)]) + \"\\n\"\n",
    "    file_writer.write(word_content)\n",
    "finally:\n",
    "    if file_writer:\n",
    "        file_writer.close()"
   ],
   "metadata": {
    "collapsed": false,
    "pycharm": {
     "name": "#%%\n"
    }
   }
  },
  {
   "cell_type": "code",
   "execution_count": 33,
   "outputs": [
    {
     "name": "stdout",
     "output_type": "stream",
     "text": [
      "我们 1.0828948727727\n",
      "带来 1.4623844944776037\n",
      "阿里巴巴 2.892353919100156\n",
      "希望 1.9478923102593046\n",
      "差 2.1992067385402105\n"
     ]
    }
   ],
   "source": [
    "with open(idf_path, \"r\", encoding=\"utf-8\") as read:\n",
    "    for line in read:\n",
    "        line = line.strip().split(\"\\t\")\n",
    "        if len(line) != 2:\n",
    "            continue\n",
    "        word, idf_score = line\n",
    "        word_idf_dict[word] = idf_score\n",
    "\n",
    "\n",
    "def get_tf_idf(target):\n",
    "    word_tf_dict = {}\n",
    "    for word in target.strip().split(\" \"):\n",
    "        if word not in word_tf_dict:\n",
    "            word_tf_dict[word] = 1\n",
    "        else:\n",
    "            word_tf_dict[word] += 1\n",
    "    for k, v in word_tf_dict.items():\n",
    "        if k not in word_idf_dict:\n",
    "            continue\n",
    "        tf_idf = v * float(word_idf_dict[k])\n",
    "        yield k, tf_idf\n",
    "\n",
    "\n",
    "for k, v in get_tf_idf(\"我们 带来 阿里巴巴 希望 差\"):\n",
    "    print(k, v)"
   ],
   "metadata": {
    "collapsed": false,
    "pycharm": {
     "name": "#%%\n"
    }
   }
  },
  {
   "cell_type": "markdown",
   "source": [
    "\n",
    "## 相似度\n",
    "cosine：A·B/|A||B|\n",
    "jaccard：|A∩B|/|A∪B|\n",
    "> * step1：cosine相似度\n",
    "> * step2：jaccard相似度"
   ],
   "metadata": {
    "collapsed": false
   }
  },
  {
   "cell_type": "code",
   "execution_count": 34,
   "outputs": [
    {
     "name": "stdout",
     "output_type": "stream",
     "text": [
      "1.0\n"
     ]
    }
   ],
   "source": [
    "source = \"我们 带来 阿里巴巴\"\n",
    "target = \"我们 带来 阿里巴巴\"\n",
    "def cosine(source, target):\n",
    "    t1_dict = {}\n",
    "    sum = 0.\n",
    "    for k, v in get_tf_idf(source):\n",
    "        sum += pow(v, 2)\n",
    "    sum = math.sqrt(sum)\n",
    "    for k, v in get_tf_idf(source):\n",
    "        t1_dict[k] = float(v / sum)\n",
    "\n",
    "    sum = 0.\n",
    "    for k, v in get_tf_idf(target):\n",
    "        sum += pow(v, 2)\n",
    "    sum = math.sqrt(sum)\n",
    "\n",
    "    final_score = 0.\n",
    "    for k, v in get_tf_idf(target):\n",
    "        if k not in t1_dict:\n",
    "            continue\n",
    "        s1 = t1_dict[k]\n",
    "        s2 = float(v / sum)\n",
    "\n",
    "        final_score += s1 * s2\n",
    "    return final_score\n",
    "print(cosine(source, target))"
   ],
   "metadata": {
    "collapsed": false,
    "pycharm": {
     "name": "#%%\n"
    }
   }
  },
  {
   "cell_type": "code",
   "execution_count": 35,
   "outputs": [
    {
     "name": "stdout",
     "output_type": "stream",
     "text": [
      "1.0\n"
     ]
    }
   ],
   "source": [
    "source = \"我们 带来 阿里巴巴\"\n",
    "target = \"我们 带来 阿里巴巴\"\n",
    "def jaccard(source, target):\n",
    "    s1_set = set(source.strip().split(' '))\n",
    "    s2_set = set(target.strip().split(' '))\n",
    "\n",
    "    score = 0.\n",
    "    s1_s2_join = s1_set & s2_set\n",
    "    len1 = len(s1_s2_join)\n",
    "\n",
    "    s1_s2_union = s1_set | s2_set\n",
    "    len2 = len(s1_s2_union)\n",
    "\n",
    "    return float(len1) / float(len2)\n",
    "\n",
    "print(jaccard(source, target))"
   ],
   "metadata": {
    "collapsed": false,
    "pycharm": {
     "name": "#%%\n"
    }
   }
  },
  {
   "cell_type": "code",
   "execution_count": null,
   "outputs": [],
   "source": [],
   "metadata": {
    "collapsed": false,
    "pycharm": {
     "name": "#%%\n"
    }
   }
  }
 ],
 "metadata": {
  "kernelspec": {
   "name": "badou",
   "language": "python",
   "display_name": "PyCharm(badou)"
  },
  "language_info": {
   "codemirror_mode": {
    "name": "ipython",
    "version": 2
   },
   "file_extension": ".py",
   "mimetype": "text/x-python",
   "name": "python",
   "nbconvert_exporter": "python",
   "pygments_lexer": "ipython2",
   "version": "2.7.6"
  }
 },
 "nbformat": 4,
 "nbformat_minor": 0
}