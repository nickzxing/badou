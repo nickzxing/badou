{
 "cells": [
  {
   "cell_type": "code",
   "execution_count": 23,
   "metadata": {
    "collapsed": true,
    "pycharm": {
     "name": "#%%\n"
    }
   },
   "outputs": [],
   "source": [
    "import math\n",
    "import os\n",
    "\n",
    "file_path_dir = \"./data\"\n",
    "raw_path = \"./raw.data\"\n",
    "idf_path = './idf.data'\n",
    "file_index = 1\n",
    "word_idf_dict = {}\n",
    "try:\n",
    "    file_writer = open(raw_path, \"w\", encoding=\"utf-8\")\n",
    "    for file in os.scandir(file_path_dir):\n",
    "        lines = []\n",
    "        with open(file, \"r\", encoding=\"utf-8\") as read:\n",
    "            for line in read:\n",
    "                lines.append(line.strip())\n",
    "        content = '\\t'.join([str(file_index), ' '.join(lines)]) + '\\n'\n",
    "        file_writer.writelines(content)\n",
    "        file_index += 1\n",
    "finally:\n",
    "    if file_writer:\n",
    "        file_writer.close()"
   ]
  },
  {
   "cell_type": "code",
   "execution_count": 24,
   "outputs": [],
   "source": [
    "try:\n",
    "    file_words = []\n",
    "    file_writer = open(idf_path, \"w\", encoding=\"utf-8\")\n",
    "    with open(raw_path, \"r\", encoding=\"utf-8\") as read:\n",
    "        for line in read:\n",
    "            line = line.strip().split(\"\\t\")\n",
    "            if len(line) != 2:\n",
    "                continue\n",
    "            words = line[1].strip().split(\" \")\n",
    "            words = set(words)\n",
    "            for word in words:\n",
    "                file_words.append((word, 1))\n",
    "    file_words = sorted(file_words, key=lambda x: x[0])\n",
    "    word_count = 0\n",
    "    current_word = None\n",
    "    for word in file_words:\n",
    "        w, n = word\n",
    "        if not current_word:\n",
    "            current_word = w\n",
    "        if not current_word.__eq__(w):\n",
    "            idf = math.log(file_index / (word_count + 1))\n",
    "            word_content = \"\\t\".join([current_word, str(idf)]) + \"\\n\"\n",
    "            file_writer.write(word_content)\n",
    "            current_word = w\n",
    "            word_count = 0\n",
    "            continue\n",
    "        word_count += n\n",
    "    idf = math.log(file_index / (word_count + 1.0))\n",
    "    word_content = \"\\t\".join([current_word, str(idf)]) + \"\\n\"\n",
    "    file_writer.write(word_content)\n",
    "finally:\n",
    "    if file_writer:\n",
    "        file_writer.close()"
   ],
   "metadata": {
    "collapsed": false,
    "pycharm": {
     "name": "#%%\n"
    }
   }
  },
  {
   "cell_type": "code",
   "execution_count": 25,
   "outputs": [
    {
     "name": "stdout",
     "output_type": "stream",
     "text": [
      "我们 1.0828948727727\n",
      "带来 1.4623844944776037\n",
      "阿里巴巴 2.892353919100156\n",
      "希望 1.9478923102593046\n",
      "差 2.1992067385402105\n",
      "啊 3.3913450852191436\n"
     ]
    }
   ],
   "source": [
    "with open(idf_path, \"r\", encoding=\"utf-8\") as read:\n",
    "    for line in read:\n",
    "        line = line.strip().split(\"\\t\")\n",
    "        if len(line) != 2:\n",
    "            continue\n",
    "        word, idf_score = line\n",
    "        word_idf_dict[word] = idf_score\n",
    "\n",
    "\n",
    "def get_tf_idf(target):\n",
    "    word_tf_dict = {}\n",
    "    for word in target.strip().split(\" \"):\n",
    "        if word not in word_tf_dict:\n",
    "            word_tf_dict[word] = 1\n",
    "        else:\n",
    "            word_tf_dict[word] += 1\n",
    "    for k, v in word_tf_dict.items():\n",
    "        if k not in word_idf_dict:\n",
    "            continue\n",
    "        tf_idf = v * float(word_idf_dict[k])\n",
    "        yield k, tf_idf\n",
    "\n",
    "\n",
    "for k, v in get_tf_idf(\"我们 带来 阿里巴巴 希望 差\"):\n",
    "    print(k, v)"
   ],
   "metadata": {
    "collapsed": false,
    "pycharm": {
     "name": "#%%\n"
    }
   }
  }
 ],
 "metadata": {
  "kernelspec": {
   "name": "badou",
   "language": "python",
   "display_name": "PyCharm(badou)"
  },
  "language_info": {
   "codemirror_mode": {
    "name": "ipython",
    "version": 2
   },
   "file_extension": ".py",
   "mimetype": "text/x-python",
   "name": "python",
   "nbconvert_exporter": "python",
   "pygments_lexer": "ipython2",
   "version": "2.7.6"
  }
 },
 "nbformat": 4,
 "nbformat_minor": 0
}